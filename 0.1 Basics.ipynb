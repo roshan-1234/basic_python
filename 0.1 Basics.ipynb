{
 "cells": [
  {
   "cell_type": "markdown",
   "id": "2a29d678",
   "metadata": {},
   "source": [
    "This is the basic course of the python"
   ]
  },
  {
   "cell_type": "markdown",
   "id": "27268373",
   "metadata": {},
   "source": [
    "# Type of variables"
   ]
  },
  {
   "cell_type": "markdown",
   "id": "c2e99926",
   "metadata": {},
   "source": [
    "In python equal ($=$)signs assigns as a variable. There is no need to be required variables types. Python knows which types of variables is this"
   ]
  },
  {
   "cell_type": "code",
   "execution_count": 7,
   "id": "7a6bf6b0",
   "metadata": {},
   "outputs": [
    {
     "name": "stdout",
     "output_type": "stream",
     "text": [
      "100\n",
      "100.0\n",
      "ASCOL\n"
     ]
    }
   ],
   "source": [
    "A=100        #Integer types of variable\n",
    "B=100.0      #Real or floating types of variable\n",
    "C='ASCOL'    #String types of variable\n",
    "\n",
    "\n",
    "print(A)\n",
    "print(B)\n",
    "print(C)"
   ]
  },
  {
   "cell_type": "markdown",
   "id": "4a50b2d6",
   "metadata": {},
   "source": [
    "Pyton is the case sensetive programming languages"
   ]
  },
  {
   "cell_type": "code",
   "execution_count": 9,
   "id": "b3000aa0",
   "metadata": {
    "scrolled": true
   },
   "outputs": [
    {
     "name": "stdout",
     "output_type": "stream",
     "text": [
      "100\n"
     ]
    },
    {
     "ename": "NameError",
     "evalue": "name 'a' is not defined",
     "output_type": "error",
     "traceback": [
      "\u001b[0;31m---------------------------------------------------------------------------\u001b[0m",
      "\u001b[0;31mNameError\u001b[0m                                 Traceback (most recent call last)",
      "Cell \u001b[0;32mIn[9], line 2\u001b[0m\n\u001b[1;32m      1\u001b[0m \u001b[38;5;28mprint\u001b[39m(A)\n\u001b[0;32m----> 2\u001b[0m \u001b[38;5;28mprint\u001b[39m(\u001b[43ma\u001b[49m)\n",
      "\u001b[0;31mNameError\u001b[0m: name 'a' is not defined"
     ]
    }
   ],
   "source": [
    "print(A)\n",
    "print(a)"
   ]
  },
  {
   "cell_type": "markdown",
   "id": "53bc4426",
   "metadata": {},
   "source": [
    "To disply the answer we use print() inbuild function. To display the variable we use print(name of variable)"
   ]
  },
  {
   "cell_type": "code",
   "execution_count": null,
   "id": "f7fe26bf",
   "metadata": {},
   "outputs": [],
   "source": []
  }
 ],
 "metadata": {
  "kernelspec": {
   "display_name": "Python 3 (ipykernel)",
   "language": "python",
   "name": "python3"
  },
  "language_info": {
   "codemirror_mode": {
    "name": "ipython",
    "version": 3
   },
   "file_extension": ".py",
   "mimetype": "text/x-python",
   "name": "python",
   "nbconvert_exporter": "python",
   "pygments_lexer": "ipython3",
   "version": "3.10.8"
  }
 },
 "nbformat": 4,
 "nbformat_minor": 5
}
