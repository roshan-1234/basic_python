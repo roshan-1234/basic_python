{
 "cells": [
  {
   "cell_type": "markdown",
   "id": "0c39a735",
   "metadata": {},
   "source": [
    "## This conversion convert decimal number to binary number"
   ]
  },
  {
   "cell_type": "markdown",
   "id": "7a1b35b6",
   "metadata": {},
   "source": [
    "<span style=\"color:red\">Algorithm for the conversion of decimal number to binary number  </span>    \n",
    "1.Start with the given decimal number.  \n",
    "2.Divide the decimal number by 2 and note the remainder.  \n",
    "3.Add the remainder to the left of the current binary string.  \n",
    "4.Repeat steps 2 and 3 with the result of the division until the decimal number becomes 0.  \n",
    "5.The resulting binary string is the binary representation of the original decimal number."
   ]
  },
  {
   "cell_type": "code",
   "execution_count": 13,
   "id": "b00a9dd3",
   "metadata": {},
   "outputs": [
    {
     "name": "stdout",
     "output_type": "stream",
     "text": [
      "Enter a decimal number: 11\n",
      "The binary representation of 11 is: 1011\n",
      "5.5\n",
      "505.5\n"
     ]
    }
   ],
   "source": [
    "def decimal_to_binary(decimal_num):\n",
    "    binary_str = \"\"\n",
    "\n",
    "    if decimal_num == 0:\n",
    "        return \"0\"\n",
    "\n",
    "    while decimal_num > 0:\n",
    "        remainder = decimal_num % 2\n",
    "        binary_str = str(remainder) + binary_str\n",
    "        decimal_num //= 2\n",
    "\n",
    "    return binary_str\n",
    "\n",
    "# Example usage:\n",
    "decimal_num = int(input(\"Enter a decimal number: \"))\n",
    "binary_num = decimal_to_binary(decimal_num)\n",
    "print(f\"The binary representation of {decimal_num} is: {binary_num}\")\n",
    "print(decimal_num/2)\n",
    "print(binary_num/2)"
   ]
  },
  {
   "cell_type": "markdown",
   "id": "cea07f77",
   "metadata": {},
   "source": [
    "## This conversion convert binary number to decimal number"
   ]
  },
  {
   "cell_type": "markdown",
   "id": "5bb04555",
   "metadata": {},
   "source": [
    "<span style=\"color:red\">Algorithm for the conversion of binary number to decimal number  </span>   \n",
    "1.Start with the given binary number as a string.  \n",
    "2.Initialize the decimal_num variable to 0.  \n",
    "3.Determine the power of 2 for the rightmost digit (2^0) and initialize the power variable accordingly.  \n",
    "4.For each digit in the binary number, multiply the digit (converted to an integer) with the corresponding power of 2 and add the result to decimal_num.  \n",
    "5.Decrement the power variable for the next iteration.  \n",
    "6.Repeat steps 4 and 5 until all digits have been processed.  \n",
    "7.decimal_num will be the decimal representation of the original binary number."
   ]
  },
  {
   "cell_type": "code",
   "execution_count": 14,
   "id": "cd4fb909",
   "metadata": {},
   "outputs": [
    {
     "name": "stdout",
     "output_type": "stream",
     "text": [
      "Enter a binary number: 1011\n",
      "The decimal representation of 1011 is: 11\n"
     ]
    }
   ],
   "source": [
    "def binary_to_decimal(binary_str):\n",
    "    decimal_num = 0\n",
    "    power = len(binary_str) - 1\n",
    "\n",
    "    for digit in binary_str:\n",
    "        decimal_num += int(digit) * (2 ** power)\n",
    "        power -= 1\n",
    "\n",
    "    return decimal_num\n",
    "\n",
    "# Example usage:\n",
    "binary_str = input(\"Enter a binary number: \")\n",
    "decimal_num = binary_to_decimal(binary_str)\n",
    "print(f\"The decimal representation of {binary_str} is: {decimal_num}\")"
   ]
  },
  {
   "cell_type": "code",
   "execution_count": null,
   "id": "53a3b693",
   "metadata": {},
   "outputs": [],
   "source": []
  }
 ],
 "metadata": {
  "kernelspec": {
   "display_name": "Python 3 (ipykernel)",
   "language": "python",
   "name": "python3"
  },
  "language_info": {
   "codemirror_mode": {
    "name": "ipython",
    "version": 3
   },
   "file_extension": ".py",
   "mimetype": "text/x-python",
   "name": "python",
   "nbconvert_exporter": "python",
   "pygments_lexer": "ipython3",
   "version": "3.10.8"
  }
 },
 "nbformat": 4,
 "nbformat_minor": 5
}
